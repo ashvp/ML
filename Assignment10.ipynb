{
  "nbformat": 4,
  "nbformat_minor": 0,
  "metadata": {
    "colab": {
      "provenance": []
    },
    "kernelspec": {
      "name": "python3",
      "display_name": "Python 3"
    },
    "language_info": {
      "name": "python"
    }
  },
  "cells": [
    {
      "cell_type": "markdown",
      "source": [
        "## Single Layer Perceptron for Linear and Non Linearly Seperable Data"
      ],
      "metadata": {
        "id": "lGLyXVFaRYMK"
      }
    },
    {
      "cell_type": "markdown",
      "source": [
        "### Creating A Dataset"
      ],
      "metadata": {
        "id": "VjdcUKefS9bu"
      }
    },
    {
      "cell_type": "code",
      "execution_count": null,
      "metadata": {
        "id": "6_oUreB6Q8P9"
      },
      "outputs": [],
      "source": [
        "import pandas as pd\n",
        "import numpy as np\n",
        "import matplotlib.pyplot as plt\n",
        "import seaborn as sns"
      ]
    },
    {
      "cell_type": "code",
      "source": [
        "# Generate 1D data and labels\n",
        "X_1d, y = generate_data(n=1000, random_seed=42)\n",
        "\n",
        "# 1D Perceptron\n",
        "x_1d_train, x_1d_test, y_1d_train, y_1d_test = train_test_split(X_1d.reshape(-1,1),\n",
        "                                        y, random_state=42, test_size=0.2)\n",
        "per = Perceptron()\n",
        "per.fit(x_1d_train, y_1d_train)\n",
        "print(per.score(x_1d_test, y_1d_test))\n",
        "\n",
        "# Train perceptron on entire 1D data\n",
        "clf_1d = Perceptron(max_iter=1000, tol=1e-3, random_state=42)\n",
        "clf_1d.fit(X_1d.reshape(-1, 1), y)\n",
        "w0 = clf_1d.intercept_[0]\n",
        "w1 = clf_1d.coef_[0][0]\n",
        "if abs(w1) > 1e-7:\n",
        "    x_boundary = -w0 / w1\n",
        "else:\n",
        "    x_boundary = None\n",
        "\n",
        "# 2D Transformed Data: x -> (x, x^2)\n",
        "X_2d = np.column_stack([X_1d, X_1d**2])\n",
        "x_2d_train, x_2d_test, y_2d_train, y_2d_test = train_test_split(X_2d, y,\n",
        "                                        random_state=42, test_size=0.2)\n",
        "per = Perceptron()\n",
        "per.fit(x_2d_train, y_2d_train)\n",
        "print(per.score(x_2d_test, y_2d_test))\n",
        "\n",
        "# Train perceptron on entire 2D data\n",
        "clf_2d = Perceptron(max_iter=1000, tol=1e-3, random_state=42)\n",
        "clf_2d.fit(X_2d, y)\n",
        "w0_2d = clf_2d.intercept_[0]\n",
        "w1_2d, w2_2d = clf_2d.coef_[0]\n",
        "\n",
        "# Plotting decision boundaries for both cases\n",
        "fig, axes = plt.subplots(1, 2, figsize=(12, 5))\n",
        "\n",
        "# Plot A: 1-D Perceptron\n",
        "ax1 = axes[0]\n",
        "ax1.set_title(\"1-D Perceptron\")\n",
        "ax1.set_xlabel(\"x\")\n",
        "ax1.set_ylabel(\"Label (offset for clarity)\")\n",
        "colors = ['red' if label == 1 else 'green' for label in y]\n",
        "y_offsets = [0.1 if label == 1 else -0.1 for label in y]\n",
        "ax1.scatter(X_1d, y_offsets, c=colors, edgecolors='k', s=100)\n",
        "if x_boundary is not None:\n",
        "    ax1.axvline(x_boundary, color='blue', linestyle='--',\n",
        "                label=f\"Boundary: x = {x_boundary:.2f}\")\n",
        "else:\n",
        "    ax1.axvline(0, color='blue', linestyle='--', label=\"No valid boundary\")\n",
        "ax1.legend()\n",
        "\n",
        "# Plot B: 2-D Transformed Perceptron\n",
        "ax2 = axes[1]\n",
        "ax2.set_title(\"2-D Transform (x, x^2) with Linear Boundary\")\n",
        "ax2.set_xlabel(\"x\")\n",
        "ax2.set_ylabel(\"x²\")\n",
        "ax2.scatter(X_1d, X_1d**2, c=colors, edgecolors='k', s=100)\n",
        "x_vals = np.linspace(-2, 2, 200)\n",
        "if abs(w2_2d) > 1e-7:\n",
        "    y_vals = -(w0_2d + w1_2d * x_vals) / w2_2d\n",
        "    ax2.plot(x_vals, y_vals, 'b--', label=\"Decision Boundary\")\n",
        "else:\n",
        "    if abs(w1_2d) > 1e-7:\n",
        "        x_line = -w0_2d / w1_2d\n",
        "        ax2.axvline(x_line, color='blue', linestyle='--',\n",
        "                    label=f\"Boundary: x = {x_line:.2f}\")\n",
        "    else:\n",
        "        ax2.text(0.5, 0.5, \"Degenerate boundary\", transform=ax2.transAxes,\n",
        "                 color='blue', ha='center')\n",
        "ax2.legend()\n",
        "\n",
        "plt.tight_layout()\n",
        "plt.savefig(\"Perceptron.png\")\n",
        "plt.show()"
      ],
      "metadata": {
        "id": "MP5awVbATEtB"
      },
      "execution_count": null,
      "outputs": []
    }
  ]
}